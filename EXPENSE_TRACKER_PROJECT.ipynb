{
  "nbformat": 4,
  "nbformat_minor": 0,
  "metadata": {
    "colab": {
      "provenance": []
    },
    "kernelspec": {
      "name": "python3",
      "display_name": "Python 3"
    },
    "language_info": {
      "name": "python"
    }
  },
  "cells": [
    {
      "cell_type": "code",
      "execution_count": 1,
      "metadata": {
        "id": "DN20mosr-0aK"
      },
      "outputs": [],
      "source": [
        "import numpy as np\n",
        "import pandas as pd\n",
        "from datetime import datetime"
      ]
    },
    {
      "cell_type": "code",
      "source": [
        "GOODS_OR_SERVICES=[]\n",
        "PRICES=[]\n",
        "START_DATES=[]\n",
        "END_DATES=[]\n",
        "EXPENSES_TYPE=[]"
      ],
      "metadata": {
        "id": "Tz5DROT3-7F7"
      },
      "execution_count": 2,
      "outputs": []
    },
    {
      "cell_type": "code",
      "source": [
        "def add_expense(goods_or_services,price,start_date,end_date,expense_type):\n",
        "  GOODS_OR_SERVICES.append(goods_or_services)\n",
        "  PRICES.append(price)\n",
        "  START_DATES.append(start_date)\n",
        "  END_DATES.append(end_date)\n",
        "  EXPENSES_TYPE.append(expense_type)"
      ],
      "metadata": {
        "id": "rCYoN_80_AUV"
      },
      "execution_count": 3,
      "outputs": []
    },
    {
      "cell_type": "code",
      "source": [
        "option = -1\n",
        "while(option!=0):\n",
        "  print('welcome to simple expense tracker')\n",
        "  print('1.add food expense')\n",
        "  print('2.add household expense')\n",
        "  print('3.add transportation expense')\n",
        "  print('4.show and save the expense report')\n",
        "  print('0.exit')\n",
        "  option = int(input('choose an option:\\n'))\n",
        "  print()\n",
        "  if option==0:\n",
        "    print('exiting the program')\n",
        "    break\n",
        "  elif option==1:\n",
        "    print('adding food')\n",
        "    expense_type='FOOD'\n",
        "  elif option==2:\n",
        "    print('adding household')\n",
        "    expense_type='HOUSEHOLD'\n",
        "  elif option==3:\n",
        "    print('adding transportation')\n",
        "    expense_type='TRANSPORTATION'\n",
        "  elif option==4:\n",
        "    expense_report=pd.DataFrame()\n",
        "    expense_report['GOODS_OR_SERVICES']=GOODS_OR_SERVICES\n",
        "    expense_report['PRICES']=PRICES\n",
        "    expense_report['START_DATE']=START_DATES\n",
        "    expense_report['END_DATE']=END_DATES\n",
        "    expense_report['EXPENSES_TYPE']=EXPENSES_TYPE\n",
        "    expense_report.to_csv('expenses.csv')\n",
        "    print(expense_report)\n",
        "  else:\n",
        "    print('you choose an incorrect option.please choose 0,1,2,3 or 4')\n",
        "  if option ==1 or option==2 or option==3:\n",
        "    goods_or_services=input('enter the goods or services for expenses type'+expense_type+':\\n')\n",
        "    price=float(input('enter the price of the good or service:\\n'))\n",
        "    start_date = datetime.strptime(input(\"Enter start date (YYYY-MM-DD): \"), \"%Y-%m-%d\").date()\n",
        "    end_date = datetime.strptime(input(\"Enter end date (YYYY-MM-DD): \"), \"%Y-%m-%d\").date()\n",
        "\n",
        "    add_expense(goods_or_services,price,start_date,end_date,expense_type)\n",
        "  print()"
      ],
      "metadata": {
        "colab": {
          "base_uri": "https://localhost:8080/"
        },
        "id": "4udSQhyv_Gm8",
        "outputId": "c2b769bd-4291-4ddb-e369-ea6fd4efef2c"
      },
      "execution_count": 6,
      "outputs": [
        {
          "output_type": "stream",
          "name": "stdout",
          "text": [
            "welcome to simple expense tracker\n",
            "1.add food expense\n",
            "2.add household expense\n",
            "3.add transportation expense\n",
            "4.show and save the expense report\n",
            "0.exit\n",
            "choose an option:\n",
            "1\n",
            "\n",
            "adding food\n",
            "enter the goods or services for expenses typeFOOD:\n",
            "pizza\n",
            "enter the price of the good or service:\n",
            "2500\n",
            "Enter start date (YYYY-MM-DD): 2023-09-01\n",
            "Enter end date (YYYY-MM-DD): 2023-10-01\n",
            "\n",
            "welcome to simple expense tracker\n",
            "1.add food expense\n",
            "2.add household expense\n",
            "3.add transportation expense\n",
            "4.show and save the expense report\n",
            "0.exit\n",
            "choose an option:\n",
            "2\n",
            "\n",
            "adding household\n",
            "enter the goods or services for expenses typeHOUSEHOLD:\n",
            "electricity bill\n",
            "enter the price of the good or service:\n",
            "3000\n",
            "Enter start date (YYYY-MM-DD): 2023-09-01\n",
            "Enter end date (YYYY-MM-DD): 2023-10-01\n",
            "\n",
            "welcome to simple expense tracker\n",
            "1.add food expense\n",
            "2.add household expense\n",
            "3.add transportation expense\n",
            "4.show and save the expense report\n",
            "0.exit\n",
            "choose an option:\n",
            "3\n",
            "\n",
            "adding transportation\n",
            "enter the goods or services for expenses typeTRANSPORTATION:\n",
            "fuel\n",
            "enter the price of the good or service:\n",
            "2300\n",
            "Enter start date (YYYY-MM-DD): 2023-09-01\n",
            "Enter end date (YYYY-MM-DD): 2023-10-01\n",
            "\n",
            "welcome to simple expense tracker\n",
            "1.add food expense\n",
            "2.add household expense\n",
            "3.add transportation expense\n",
            "4.show and save the expense report\n",
            "0.exit\n",
            "choose an option:\n",
            "4\n",
            "\n",
            "  GOODS_OR_SERVICES  PRICES  START_DATE    END_DATE   EXPENSES_TYPE\n",
            "0             pizza  2500.0  2023-09-01  2023-10-01            FOOD\n",
            "1             pizza  2500.0  2023-09-01  2023-10-01            FOOD\n",
            "2  electricity bill  3000.0  2023-09-01  2023-10-01       HOUSEHOLD\n",
            "3              fuel  2300.0  2023-09-01  2023-10-01  TRANSPORTATION\n",
            "\n",
            "welcome to simple expense tracker\n",
            "1.add food expense\n",
            "2.add household expense\n",
            "3.add transportation expense\n",
            "4.show and save the expense report\n",
            "0.exit\n",
            "choose an option:\n",
            "0\n",
            "\n",
            "exiting the program\n"
          ]
        }
      ]
    },
    {
      "cell_type": "code",
      "source": [],
      "metadata": {
        "id": "qoKUvKsa_Kso"
      },
      "execution_count": null,
      "outputs": []
    }
  ]
}